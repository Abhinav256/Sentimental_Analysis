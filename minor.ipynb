{
 "cells": [
  {
   "cell_type": "markdown",
   "id": "383942d2-8740-417d-b8c4-bb877a856fb4",
   "metadata": {},
   "source": [
    "### Importing Libraries and Loading the Dataset"
   ]
  },
  {
   "cell_type": "code",
   "execution_count": 5,
   "id": "0eff2517-f69a-43fc-87f2-058e986fa284",
   "metadata": {},
   "outputs": [],
   "source": [
    "import pandas as pd\n",
    "import numpy as np\n",
    "from sklearn.model_selection import train_test_split\n",
    "from sklearn.feature_extraction.text import CountVectorizer\n",
    "from sklearn.linear_model import LogisticRegression\n",
    "from sklearn.metrics import accuracy_score, classification_report, confusion_matrix\n",
    "import matplotlib.pyplot as plt\n",
    "from sklearn.naive_bayes import MultinomialNB\n",
    "import seaborn as sns"
   ]
  },
  {
   "cell_type": "code",
   "execution_count": 6,
   "id": "33f2eb51-07dd-426c-842b-0ddb60dac887",
   "metadata": {},
   "outputs": [],
   "source": [
    "df = pd.read_csv('facebook.csv')"
   ]
  },
  {
   "cell_type": "code",
   "execution_count": 7,
   "id": "8bfc0830-4661-4a4a-9c79-6a40d98e0ed5",
   "metadata": {},
   "outputs": [
    {
     "data": {
      "text/html": [
       "<div>\n",
       "<style scoped>\n",
       "    .dataframe tbody tr th:only-of-type {\n",
       "        vertical-align: middle;\n",
       "    }\n",
       "\n",
       "    .dataframe tbody tr th {\n",
       "        vertical-align: top;\n",
       "    }\n",
       "\n",
       "    .dataframe thead th {\n",
       "        text-align: right;\n",
       "    }\n",
       "</style>\n",
       "<table border=\"1\" class=\"dataframe\">\n",
       "  <thead>\n",
       "    <tr style=\"text-align: right;\">\n",
       "      <th></th>\n",
       "      <th>review_id</th>\n",
       "      <th>pseudo_author_id</th>\n",
       "      <th>author_name</th>\n",
       "      <th>review_text</th>\n",
       "      <th>review_rating</th>\n",
       "      <th>review_likes</th>\n",
       "      <th>author_app_version</th>\n",
       "      <th>review_timestamp</th>\n",
       "    </tr>\n",
       "  </thead>\n",
       "  <tbody>\n",
       "    <tr>\n",
       "      <th>0</th>\n",
       "      <td>078812be-8db7-4e48-aede-42267707b513</td>\n",
       "      <td>129467332357429289202</td>\n",
       "      <td>En Google-bruker</td>\n",
       "      <td>It works. Good work!</td>\n",
       "      <td>4</td>\n",
       "      <td>1</td>\n",
       "      <td>1.0.1</td>\n",
       "      <td>2009-09-09 07:36:50</td>\n",
       "    </tr>\n",
       "    <tr>\n",
       "      <th>1</th>\n",
       "      <td>455dcc52-5102-4b9e-b029-f1213e7c6510</td>\n",
       "      <td>317630701159287152489</td>\n",
       "      <td>En Google-bruker</td>\n",
       "      <td>Mangler en del ting mann lett savner..</td>\n",
       "      <td>3</td>\n",
       "      <td>2</td>\n",
       "      <td>1.0.1</td>\n",
       "      <td>2009-09-18 05:02:22</td>\n",
       "    </tr>\n",
       "    <tr>\n",
       "      <th>2</th>\n",
       "      <td>eb3a561b-484c-4ac8-babd-3564d3553e67</td>\n",
       "      <td>262956957451140959067</td>\n",
       "      <td>Googleユーザー</td>\n",
       "      <td>Excellent native app!</td>\n",
       "      <td>5</td>\n",
       "      <td>0</td>\n",
       "      <td>1.1.2</td>\n",
       "      <td>2009-12-17 01:45:42</td>\n",
       "    </tr>\n",
       "    <tr>\n",
       "      <th>3</th>\n",
       "      <td>b3b28e80-8645-4156-8ea3-4b41d8fb8b0f</td>\n",
       "      <td>180511796444758383729</td>\n",
       "      <td>En Google-bruker</td>\n",
       "      <td>Mangler bare innboks...</td>\n",
       "      <td>3</td>\n",
       "      <td>2</td>\n",
       "      <td>1.1.2</td>\n",
       "      <td>2009-12-17 16:26:46</td>\n",
       "    </tr>\n",
       "    <tr>\n",
       "      <th>4</th>\n",
       "      <td>c3c4070e-cf84-44b6-ad9f-5afe401b9915</td>\n",
       "      <td>174025437917503753906</td>\n",
       "      <td>En Google-bruker</td>\n",
       "      <td>Trenger en del oppdateringer</td>\n",
       "      <td>4</td>\n",
       "      <td>1</td>\n",
       "      <td>1.1.2</td>\n",
       "      <td>2010-01-28 15:12:41</td>\n",
       "    </tr>\n",
       "  </tbody>\n",
       "</table>\n",
       "</div>"
      ],
      "text/plain": [
       "                              review_id       pseudo_author_id  \\\n",
       "0  078812be-8db7-4e48-aede-42267707b513  129467332357429289202   \n",
       "1  455dcc52-5102-4b9e-b029-f1213e7c6510  317630701159287152489   \n",
       "2  eb3a561b-484c-4ac8-babd-3564d3553e67  262956957451140959067   \n",
       "3  b3b28e80-8645-4156-8ea3-4b41d8fb8b0f  180511796444758383729   \n",
       "4  c3c4070e-cf84-44b6-ad9f-5afe401b9915  174025437917503753906   \n",
       "\n",
       "        author_name                             review_text  review_rating  \\\n",
       "0  En Google-bruker                    It works. Good work!              4   \n",
       "1  En Google-bruker  Mangler en del ting mann lett savner..              3   \n",
       "2        Googleユーザー                   Excellent native app!              5   \n",
       "3  En Google-bruker                 Mangler bare innboks...              3   \n",
       "4  En Google-bruker            Trenger en del oppdateringer              4   \n",
       "\n",
       "   review_likes author_app_version     review_timestamp  \n",
       "0             1              1.0.1  2009-09-09 07:36:50  \n",
       "1             2              1.0.1  2009-09-18 05:02:22  \n",
       "2             0              1.1.2  2009-12-17 01:45:42  \n",
       "3             2              1.1.2  2009-12-17 16:26:46  \n",
       "4             1              1.1.2  2010-01-28 15:12:41  "
      ]
     },
     "execution_count": 7,
     "metadata": {},
     "output_type": "execute_result"
    }
   ],
   "source": [
    "df.head()"
   ]
  },
  {
   "cell_type": "code",
   "execution_count": null,
   "id": "b592cb85-f173-402f-9f95-90c3a47c9bed",
   "metadata": {},
   "outputs": [],
   "source": []
  },
  {
   "cell_type": "code",
   "execution_count": null,
   "id": "be3eb25e-2a44-47ed-b280-60869bcd6fbe",
   "metadata": {},
   "outputs": [],
   "source": []
  },
  {
   "cell_type": "code",
   "execution_count": null,
   "id": "e4beb629-2be0-4a87-9fc1-1d32bcdb98d7",
   "metadata": {},
   "outputs": [],
   "source": []
  },
  {
   "cell_type": "code",
   "execution_count": 11,
   "id": "7c40a503-8931-4663-bbf6-963b9bbfdbed",
   "metadata": {},
   "outputs": [
    {
     "data": {
      "text/html": [
       "<div>\n",
       "<style scoped>\n",
       "    .dataframe tbody tr th:only-of-type {\n",
       "        vertical-align: middle;\n",
       "    }\n",
       "\n",
       "    .dataframe tbody tr th {\n",
       "        vertical-align: top;\n",
       "    }\n",
       "\n",
       "    .dataframe thead th {\n",
       "        text-align: right;\n",
       "    }\n",
       "</style>\n",
       "<table border=\"1\" class=\"dataframe\">\n",
       "  <thead>\n",
       "    <tr style=\"text-align: right;\">\n",
       "      <th></th>\n",
       "      <th>review_id</th>\n",
       "      <th>pseudo_author_id</th>\n",
       "      <th>author_name</th>\n",
       "      <th>review_text</th>\n",
       "      <th>review_rating</th>\n",
       "      <th>review_likes</th>\n",
       "      <th>author_app_version</th>\n",
       "      <th>review_timestamp</th>\n",
       "    </tr>\n",
       "  </thead>\n",
       "  <tbody>\n",
       "    <tr>\n",
       "      <th>4103046</th>\n",
       "      <td>ec64d6d1-636e-4bcc-b3fe-36bcca30a05c</td>\n",
       "      <td>101625244338432586097</td>\n",
       "      <td>En********ra</td>\n",
       "      <td>Notifikasi komentar nya kacau, tidak bisa dite...</td>\n",
       "      <td>2</td>\n",
       "      <td>0</td>\n",
       "      <td>440.0.0.31.105</td>\n",
       "      <td>2023-11-18 15:25:44</td>\n",
       "    </tr>\n",
       "    <tr>\n",
       "      <th>4103047</th>\n",
       "      <td>bd4e090a-dad4-4279-baa5-a6f827267b7c</td>\n",
       "      <td>132023778214130843632</td>\n",
       "      <td>He***********ti</td>\n",
       "      <td>Tidak berpihak pada kemanusiaan</td>\n",
       "      <td>1</td>\n",
       "      <td>0</td>\n",
       "      <td>440.0.0.31.105</td>\n",
       "      <td>2023-11-18 15:26:45</td>\n",
       "    </tr>\n",
       "    <tr>\n",
       "      <th>4103048</th>\n",
       "      <td>d996780c-d5d0-4084-8a56-91ec45f2951a</td>\n",
       "      <td>127585287951982721489</td>\n",
       "      <td>Tg*****em</td>\n",
       "      <td>Tidak suka</td>\n",
       "      <td>1</td>\n",
       "      <td>0</td>\n",
       "      <td>440.0.0.31.105</td>\n",
       "      <td>2023-11-18 15:32:24</td>\n",
       "    </tr>\n",
       "    <tr>\n",
       "      <th>4103049</th>\n",
       "      <td>6fc6d50e-8fed-466e-b209-b8d6e64ee808</td>\n",
       "      <td>193662065871351439664</td>\n",
       "      <td>ir*********ia</td>\n",
       "      <td>Sering di banned</td>\n",
       "      <td>1</td>\n",
       "      <td>0</td>\n",
       "      <td>438.0.0.33.118</td>\n",
       "      <td>2023-11-18 15:32:43</td>\n",
       "    </tr>\n",
       "    <tr>\n",
       "      <th>4103050</th>\n",
       "      <td>354dd541-4d52-41e9-9b5a-321b74f4ba2d</td>\n",
       "      <td>224821369859686004501</td>\n",
       "      <td>Ab*******ni</td>\n",
       "      <td>pihak fb tlong dong.. aku yang sudah kita blok...</td>\n",
       "      <td>5</td>\n",
       "      <td>0</td>\n",
       "      <td>NaN</td>\n",
       "      <td>2023-11-18 15:33:54</td>\n",
       "    </tr>\n",
       "  </tbody>\n",
       "</table>\n",
       "</div>"
      ],
      "text/plain": [
       "                                    review_id       pseudo_author_id  \\\n",
       "4103046  ec64d6d1-636e-4bcc-b3fe-36bcca30a05c  101625244338432586097   \n",
       "4103047  bd4e090a-dad4-4279-baa5-a6f827267b7c  132023778214130843632   \n",
       "4103048  d996780c-d5d0-4084-8a56-91ec45f2951a  127585287951982721489   \n",
       "4103049  6fc6d50e-8fed-466e-b209-b8d6e64ee808  193662065871351439664   \n",
       "4103050  354dd541-4d52-41e9-9b5a-321b74f4ba2d  224821369859686004501   \n",
       "\n",
       "             author_name                                        review_text  \\\n",
       "4103046     En********ra  Notifikasi komentar nya kacau, tidak bisa dite...   \n",
       "4103047  He***********ti                    Tidak berpihak pada kemanusiaan   \n",
       "4103048        Tg*****em                                         Tidak suka   \n",
       "4103049    ir*********ia                                   Sering di banned   \n",
       "4103050      Ab*******ni  pihak fb tlong dong.. aku yang sudah kita blok...   \n",
       "\n",
       "         review_rating  review_likes author_app_version     review_timestamp  \n",
       "4103046              2             0     440.0.0.31.105  2023-11-18 15:25:44  \n",
       "4103047              1             0     440.0.0.31.105  2023-11-18 15:26:45  \n",
       "4103048              1             0     440.0.0.31.105  2023-11-18 15:32:24  \n",
       "4103049              1             0     438.0.0.33.118  2023-11-18 15:32:43  \n",
       "4103050              5             0                NaN  2023-11-18 15:33:54  "
      ]
     },
     "execution_count": 11,
     "metadata": {},
     "output_type": "execute_result"
    }
   ],
   "source": [
    "df.tail()"
   ]
  },
  {
   "cell_type": "code",
   "execution_count": null,
   "id": "59c8a8d6-0a44-47f4-9684-c55bfb6ac2fd",
   "metadata": {},
   "outputs": [],
   "source": []
  },
  {
   "cell_type": "code",
   "execution_count": null,
   "id": "46b68d1a-f7e7-45d0-9691-d606c495428e",
   "metadata": {},
   "outputs": [],
   "source": []
  },
  {
   "cell_type": "code",
   "execution_count": null,
   "id": "745e1aa5-2c68-4f02-9e41-97e8acfd92fb",
   "metadata": {},
   "outputs": [],
   "source": []
  },
  {
   "cell_type": "code",
   "execution_count": 16,
   "id": "13d616a4-cff0-4376-a53a-54b306957cab",
   "metadata": {},
   "outputs": [
    {
     "name": "stdout",
     "output_type": "stream",
     "text": [
      "Missing values in 'review_text': 542\n",
      "Missing values in 'review_rating': 0\n"
     ]
    }
   ],
   "source": [
    "print(f\"Missing values in 'review_text': {df['review_text'].isnull().sum()}\")\n",
    "print(f\"Missing values in 'review_rating': {df['review_rating'].isnull().sum()}\")\n"
   ]
  },
  {
   "cell_type": "code",
   "execution_count": null,
   "id": "670c8ae6-c4db-448f-813f-54b02dfd0b36",
   "metadata": {},
   "outputs": [],
   "source": []
  },
  {
   "cell_type": "code",
   "execution_count": 18,
   "id": "fbaa5813-e636-4bd4-a623-65119d184b12",
   "metadata": {},
   "outputs": [],
   "source": [
    "df = df.dropna(subset=['review_text', 'review_rating'])"
   ]
  },
  {
   "cell_type": "code",
   "execution_count": null,
   "id": "3cab7a14-6440-4c30-85ff-e8794e918703",
   "metadata": {},
   "outputs": [],
   "source": []
  },
  {
   "cell_type": "code",
   "execution_count": null,
   "id": "51e9ce6d-85a8-42e7-91cf-4fc1767b0080",
   "metadata": {},
   "outputs": [],
   "source": []
  },
  {
   "cell_type": "code",
   "execution_count": 21,
   "id": "1c8606c1-321c-45cf-9556-e1d82e2f3799",
   "metadata": {},
   "outputs": [],
   "source": [
    "def sentiment_rating(rating):\n",
    "    if rating in [5]:\n",
    "        return 'positive'\n",
    "    elif rating in [4,3]:\n",
    "        return 'neutral'\n",
    "    else:\n",
    "        return 'negative'"
   ]
  },
  {
   "cell_type": "code",
   "execution_count": null,
   "id": "9d4940b3-7859-45df-bcd8-e3583a2b1db3",
   "metadata": {},
   "outputs": [],
   "source": []
  },
  {
   "cell_type": "code",
   "execution_count": 23,
   "id": "c20e0db9-37e3-4eca-beeb-572ae223c395",
   "metadata": {},
   "outputs": [],
   "source": [
    "df['sentiment'] = df['review_rating'].apply(sentiment_rating)\n"
   ]
  },
  {
   "cell_type": "code",
   "execution_count": 24,
   "id": "3488c4e6-cde8-4ad1-bc8f-d2c66a765872",
   "metadata": {},
   "outputs": [],
   "source": [
    "vectorizer = CountVectorizer(stop_words='english')\n",
    "X = vectorizer.fit_transform(df['review_text'])"
   ]
  },
  {
   "cell_type": "code",
   "execution_count": 25,
   "id": "5e43ffab-12db-4784-92ab-f53b4fe290fc",
   "metadata": {},
   "outputs": [],
   "source": [
    "y = df['sentiment'].map({'positive': 1, 'neutral': 0, 'negative': -1})\n"
   ]
  },
  {
   "cell_type": "code",
   "execution_count": 26,
   "id": "c664fd2f-6a10-4e57-92df-70fa864c26dc",
   "metadata": {},
   "outputs": [],
   "source": [
    "X_train, X_test, y_train, y_test = train_test_split(X, y, test_size=0.3, random_state=42)"
   ]
  },
  {
   "cell_type": "code",
   "execution_count": 27,
   "id": "5771571c-6893-43b5-8223-fec77b0eb330",
   "metadata": {},
   "outputs": [
    {
     "data": {
      "text/html": [
       "<style>#sk-container-id-1 {color: black;background-color: white;}#sk-container-id-1 pre{padding: 0;}#sk-container-id-1 div.sk-toggleable {background-color: white;}#sk-container-id-1 label.sk-toggleable__label {cursor: pointer;display: block;width: 100%;margin-bottom: 0;padding: 0.3em;box-sizing: border-box;text-align: center;}#sk-container-id-1 label.sk-toggleable__label-arrow:before {content: \"▸\";float: left;margin-right: 0.25em;color: #696969;}#sk-container-id-1 label.sk-toggleable__label-arrow:hover:before {color: black;}#sk-container-id-1 div.sk-estimator:hover label.sk-toggleable__label-arrow:before {color: black;}#sk-container-id-1 div.sk-toggleable__content {max-height: 0;max-width: 0;overflow: hidden;text-align: left;background-color: #f0f8ff;}#sk-container-id-1 div.sk-toggleable__content pre {margin: 0.2em;color: black;border-radius: 0.25em;background-color: #f0f8ff;}#sk-container-id-1 input.sk-toggleable__control:checked~div.sk-toggleable__content {max-height: 200px;max-width: 100%;overflow: auto;}#sk-container-id-1 input.sk-toggleable__control:checked~label.sk-toggleable__label-arrow:before {content: \"▾\";}#sk-container-id-1 div.sk-estimator input.sk-toggleable__control:checked~label.sk-toggleable__label {background-color: #d4ebff;}#sk-container-id-1 div.sk-label input.sk-toggleable__control:checked~label.sk-toggleable__label {background-color: #d4ebff;}#sk-container-id-1 input.sk-hidden--visually {border: 0;clip: rect(1px 1px 1px 1px);clip: rect(1px, 1px, 1px, 1px);height: 1px;margin: -1px;overflow: hidden;padding: 0;position: absolute;width: 1px;}#sk-container-id-1 div.sk-estimator {font-family: monospace;background-color: #f0f8ff;border: 1px dotted black;border-radius: 0.25em;box-sizing: border-box;margin-bottom: 0.5em;}#sk-container-id-1 div.sk-estimator:hover {background-color: #d4ebff;}#sk-container-id-1 div.sk-parallel-item::after {content: \"\";width: 100%;border-bottom: 1px solid gray;flex-grow: 1;}#sk-container-id-1 div.sk-label:hover label.sk-toggleable__label {background-color: #d4ebff;}#sk-container-id-1 div.sk-serial::before {content: \"\";position: absolute;border-left: 1px solid gray;box-sizing: border-box;top: 0;bottom: 0;left: 50%;z-index: 0;}#sk-container-id-1 div.sk-serial {display: flex;flex-direction: column;align-items: center;background-color: white;padding-right: 0.2em;padding-left: 0.2em;position: relative;}#sk-container-id-1 div.sk-item {position: relative;z-index: 1;}#sk-container-id-1 div.sk-parallel {display: flex;align-items: stretch;justify-content: center;background-color: white;position: relative;}#sk-container-id-1 div.sk-item::before, #sk-container-id-1 div.sk-parallel-item::before {content: \"\";position: absolute;border-left: 1px solid gray;box-sizing: border-box;top: 0;bottom: 0;left: 50%;z-index: -1;}#sk-container-id-1 div.sk-parallel-item {display: flex;flex-direction: column;z-index: 1;position: relative;background-color: white;}#sk-container-id-1 div.sk-parallel-item:first-child::after {align-self: flex-end;width: 50%;}#sk-container-id-1 div.sk-parallel-item:last-child::after {align-self: flex-start;width: 50%;}#sk-container-id-1 div.sk-parallel-item:only-child::after {width: 0;}#sk-container-id-1 div.sk-dashed-wrapped {border: 1px dashed gray;margin: 0 0.4em 0.5em 0.4em;box-sizing: border-box;padding-bottom: 0.4em;background-color: white;}#sk-container-id-1 div.sk-label label {font-family: monospace;font-weight: bold;display: inline-block;line-height: 1.2em;}#sk-container-id-1 div.sk-label-container {text-align: center;}#sk-container-id-1 div.sk-container {/* jupyter's `normalize.less` sets `[hidden] { display: none; }` but bootstrap.min.css set `[hidden] { display: none !important; }` so we also need the `!important` here to be able to override the default hidden behavior on the sphinx rendered scikit-learn.org. See: https://github.com/scikit-learn/scikit-learn/issues/21755 */display: inline-block !important;position: relative;}#sk-container-id-1 div.sk-text-repr-fallback {display: none;}</style><div id=\"sk-container-id-1\" class=\"sk-top-container\"><div class=\"sk-text-repr-fallback\"><pre>MultinomialNB()</pre><b>In a Jupyter environment, please rerun this cell to show the HTML representation or trust the notebook. <br />On GitHub, the HTML representation is unable to render, please try loading this page with nbviewer.org.</b></div><div class=\"sk-container\" hidden><div class=\"sk-item\"><div class=\"sk-estimator sk-toggleable\"><input class=\"sk-toggleable__control sk-hidden--visually\" id=\"sk-estimator-id-1\" type=\"checkbox\" checked><label for=\"sk-estimator-id-1\" class=\"sk-toggleable__label sk-toggleable__label-arrow\">MultinomialNB</label><div class=\"sk-toggleable__content\"><pre>MultinomialNB()</pre></div></div></div></div></div>"
      ],
      "text/plain": [
       "MultinomialNB()"
      ]
     },
     "execution_count": 27,
     "metadata": {},
     "output_type": "execute_result"
    }
   ],
   "source": [
    "model = MultinomialNB()\n",
    "model.fit(X_train, y_train)"
   ]
  },
  {
   "cell_type": "code",
   "execution_count": null,
   "id": "dd4733eb-5a16-49e1-9e79-4d674ff28883",
   "metadata": {},
   "outputs": [],
   "source": []
  },
  {
   "cell_type": "code",
   "execution_count": 29,
   "id": "d3285b91-7dc5-47c0-b007-2c3ce4e0e804",
   "metadata": {},
   "outputs": [],
   "source": [
    "y_pred = model.predict(X_test)\n"
   ]
  },
  {
   "cell_type": "code",
   "execution_count": 30,
   "id": "5ad01994-5d92-4c4c-a329-f18ae7e19086",
   "metadata": {},
   "outputs": [
    {
     "name": "stdout",
     "output_type": "stream",
     "text": [
      "Accuracy: 74.78%\n"
     ]
    }
   ],
   "source": [
    "accuracy = accuracy_score(y_test, y_pred)\n",
    "print(f\"Accuracy: {accuracy * 100:.2f}%\")"
   ]
  },
  {
   "cell_type": "code",
   "execution_count": null,
   "id": "81e86a11-fab0-4c51-b0eb-3ecf8747135c",
   "metadata": {},
   "outputs": [],
   "source": []
  },
  {
   "cell_type": "code",
   "execution_count": 32,
   "id": "9d91923b-1b00-41a2-80ba-3152a97774eb",
   "metadata": {},
   "outputs": [
    {
     "name": "stdout",
     "output_type": "stream",
     "text": [
      "Classification Report:\n",
      "              precision    recall  f1-score   support\n",
      "\n",
      "          -1       0.84      0.75      0.79    528013\n",
      "           0       0.28      0.06      0.09    133674\n",
      "           1       0.70      0.91      0.79    569066\n",
      "\n",
      "    accuracy                           0.75   1230753\n",
      "   macro avg       0.61      0.57      0.56   1230753\n",
      "weighted avg       0.72      0.75      0.72   1230753\n",
      "\n"
     ]
    }
   ],
   "source": [
    "print(\"Classification Report:\")\n",
    "print(classification_report(y_test, y_pred))"
   ]
  },
  {
   "cell_type": "code",
   "execution_count": null,
   "id": "dcf975e7-5867-4671-ba96-52fca3fa758a",
   "metadata": {},
   "outputs": [],
   "source": []
  },
  {
   "cell_type": "code",
   "execution_count": 34,
   "id": "92f87929-1d34-45c2-9bc5-d2b6748a12f6",
   "metadata": {},
   "outputs": [
    {
     "name": "stdout",
     "output_type": "stream",
     "text": [
      "Confusion Matrix:\n",
      "[[395370  13100 119543]\n",
      " [ 29150   7567  96957]\n",
      " [ 45282   6416 517368]]\n"
     ]
    }
   ],
   "source": [
    "cm = confusion_matrix(y_test, y_pred)\n",
    "print(\"Confusion Matrix:\")\n",
    "print(cm)\n"
   ]
  },
  {
   "cell_type": "code",
   "execution_count": null,
   "id": "9e2769d1-70cc-4117-9670-520d4ea456a7",
   "metadata": {},
   "outputs": [],
   "source": []
  },
  {
   "cell_type": "code",
   "execution_count": 36,
   "id": "5e344d10-fa8b-4acf-973b-7d0be1ec8f81",
   "metadata": {},
   "outputs": [],
   "source": [
    "y_train_pred = model.predict(X_train)\n",
    "y_test_pred = model.predict(X_test)\n"
   ]
  },
  {
   "cell_type": "code",
   "execution_count": null,
   "id": "e9bddd05-a649-4316-b929-856e6bb99956",
   "metadata": {},
   "outputs": [],
   "source": []
  },
  {
   "cell_type": "markdown",
   "id": "ea57710a-5284-4af2-820a-9bf21357494f",
   "metadata": {},
   "source": [
    "### Calculate accuracies"
   ]
  },
  {
   "cell_type": "code",
   "execution_count": 39,
   "id": "c3db6daf-485d-48f5-95f5-47696eb54784",
   "metadata": {},
   "outputs": [],
   "source": [
    "train_accuracy = accuracy_score(y_train, y_train_pred)\n",
    "test_accuracy = accuracy_score(y_test, y_test_pred)\n"
   ]
  },
  {
   "cell_type": "code",
   "execution_count": null,
   "id": "e26e33e2-f486-4363-951b-3e8d345fd86a",
   "metadata": {},
   "outputs": [],
   "source": []
  },
  {
   "cell_type": "markdown",
   "id": "eac29a89-e718-40b1-ab6e-bb1301cdbed5",
   "metadata": {},
   "source": [
    "\n",
    "### Print accuracies"
   ]
  },
  {
   "cell_type": "code",
   "execution_count": 42,
   "id": "83ee3c34-6adf-480c-b923-af70be3d9dca",
   "metadata": {},
   "outputs": [
    {
     "name": "stdout",
     "output_type": "stream",
     "text": [
      "Training Accuracy: 76.50%\n",
      "Testing Accuracy: 74.78%\n"
     ]
    }
   ],
   "source": [
    "print(f\"Training Accuracy: {train_accuracy * 100:.2f}%\")\n",
    "print(f\"Testing Accuracy: {test_accuracy * 100:.2f}%\")\n"
   ]
  },
  {
   "cell_type": "code",
   "execution_count": null,
   "id": "0985ca51-b661-44a3-ae84-4743fd8e3cee",
   "metadata": {},
   "outputs": [],
   "source": []
  },
  {
   "cell_type": "markdown",
   "id": "32895dbb-78c5-4bad-9226-f4316f1cd87e",
   "metadata": {},
   "source": [
    "\n",
    "### Plot accuracy graph"
   ]
  },
  {
   "cell_type": "code",
   "execution_count": 45,
   "id": "355f096a-a67c-431c-b2a2-0030397118dc",
   "metadata": {},
   "outputs": [
    {
     "data": {
      "image/png": "[encoded data removed]",
      "text/plain": [
       "<Figure size 1000x600 with 1 Axes>"
      ]
     },
     "metadata": {},
     "output_type": "display_data"
    }
   ],
   "source": [
    "plt.figure(figsize=(10, 6))\n",
    "plt.bar(['Training Accuracy', 'Testing Accuracy'], [train_accuracy, test_accuracy], color=['blue', 'orange'])\n",
    "plt.title('Training vs Testing Accuracy')\n",
    "plt.ylabel('Accuracy')\n",
    "plt.ylim(0, 1)  # Accuracy values range from 0 to 1\n",
    "plt.grid(axis='y')\n",
    "plt.show()"
   ]
  },
  {
   "cell_type": "code",
   "execution_count": null,
   "id": "986129b6-0a37-4c9d-9d69-9f435323ff1b",
   "metadata": {},
   "outputs": [],
   "source": []
  },
  {
   "cell_type": "code",
   "execution_count": null,
   "id": "73b86446-f0f9-41ac-9326-c0e2d2ec50aa",
   "metadata": {},
   "outputs": [],
   "source": []
  },
  {
   "cell_type": "code",
   "execution_count": null,
   "id": "0a3cbf48-172b-40fb-9dc2-0567e85b2e9c",
   "metadata": {},
   "outputs": [],
   "source": []
  },
  {
   "cell_type": "code",
   "execution_count": 49,
   "id": "4cfbac2d-d17d-4928-a27d-6fd69de2491f",
   "metadata": {},
   "outputs": [],
   "source": [
    "import pickle\n",
    "with open('sentiment_model.pkl', 'wb') as f:\n",
    "    pickle.dump(model, f)"
   ]
  },
  {
   "cell_type": "code",
   "execution_count": 50,
   "id": "dfbff43f-da85-4cc2-a136-51f94ad89d35",
   "metadata": {},
   "outputs": [],
   "source": [
    "def load_model():\n",
    "    with open('sentiment_model.pkl', 'rb') as f:\n",
    "        return pickle.load(f)"
   ]
  },
  {
   "cell_type": "code",
   "execution_count": 51,
   "id": "6f8d4166-eaa7-4cda-8ed4-7140a26cb976",
   "metadata": {},
   "outputs": [],
   "source": [
    "def chatbot(review_text):\n",
    "    model = load_model()\n",
    "    \n",
    "    # Preprocess the input review text\n",
    "    input_vector = vectorizer.transform([review_text])\n",
    "    \n",
    "    # Predict the sentiment\n",
    "    prediction = model.predict(input_vector)[0]\n",
    "    \n",
    "    # Map prediction to sentiment\n",
    "    sentiment_map = {1: 'positive', 0: 'neutral', -1: 'negative'}\n",
    "    return sentiment_map[prediction]\n"
   ]
  },
  {
   "cell_type": "code",
   "execution_count": null,
   "id": "0f7d4522-41a3-43c3-b5c4-874b50ff4101",
   "metadata": {},
   "outputs": [],
   "source": []
  },
  {
   "cell_type": "code",
   "execution_count": null,
   "id": "b5f34744-e325-4f6a-8b6f-6398970dfbff",
   "metadata": {},
   "outputs": [],
   "source": []
  },
  {
   "cell_type": "code",
   "execution_count": null,
   "id": "dbdec3ba-fbb7-4320-a0a4-17791a7eb80b",
   "metadata": {},
   "outputs": [],
   "source": []
  },
  {
   "cell_type": "markdown",
   "id": "7c40a755-f29b-4bee-b52c-efd213a0ea10",
   "metadata": {},
   "source": [
    "\n",
    "### Chatbot interaction"
   ]
  },
  {
   "cell_type": "code",
   "execution_count": null,
   "id": "167c0853-974c-41a7-a176-ec39637edb4a",
   "metadata": {},
   "outputs": [
    {
     "name": "stdin",
     "output_type": "stream",
     "text": [
      "Enter a review (or type 'exit' to quit):  No vart æ litt meir fornøyd me facebook'en ja:-) få t siste oppdateringa no me resten som mangle, så bli d genialt d her;-)\n"
     ]
    },
    {
     "name": "stdout",
     "output_type": "stream",
     "text": [
      "The review sentiment is: neutral\n"
     ]
    }
   ],
   "source": [
    "while True:\n",
    "    user_input = input(\"Enter a review (or type 'exit' to quit): \")\n",
    "    if user_input.lower() == 'exit':\n",
    "        break\n",
    "    sentiment_result = chatbot(user_input)\n",
    "    print(f\"The review sentiment is: {sentiment_result}\")"
   ]
  },
  {
   "cell_type": "code",
   "execution_count": null,
   "id": "860d12b8-b8c9-44e5-a878-9a5160e07715",
   "metadata": {},
   "outputs": [],
   "source": []
  },
  {
   "cell_type": "code",
   "execution_count": null,
   "id": "de5a0e81-14ac-4dcd-a5da-e5c5d50de6e5",
   "metadata": {},
   "outputs": [],
   "source": []
  }
 ],
 "metadata": {
  "kernelspec": {
   "display_name": "Python 3 (ipykernel)",
   "language": "python",
   "name": "python3"
  },
  "language_info": {
   "codemirror_mode": {
    "name": "ipython",
    "version": 3
   },
   "file_extension": ".py",
   "mimetype": "text/x-python",
   "name": "python",
   "nbconvert_exporter": "python",
   "pygments_lexer": "ipython3",
   "version": "3.11.5"
  }
 },
 "nbformat": 4,
 "nbformat_minor": 5
}
